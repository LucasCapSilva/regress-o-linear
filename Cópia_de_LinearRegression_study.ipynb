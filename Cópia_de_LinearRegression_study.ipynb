{
  "nbformat": 4,
  "nbformat_minor": 0,
  "metadata": {
    "colab": {
      "name": "Cópia de LinearRegression_study.ipynb",
      "provenance": [],
      "collapsed_sections": []
    },
    "kernelspec": {
      "name": "python3",
      "display_name": "Python 3"
    }
  },
  "cells": [
    {
      "cell_type": "markdown",
      "metadata": {
        "id": "8M-J81M1rNdw"
      },
      "source": [
        "Estudo postado em https://medium.com/data-hackers/como-funciona-uma-regress%C3%A3o-linear-f7208fa6c662."
      ]
    },
    {
      "cell_type": "code",
      "metadata": {
        "id": "UAsgRmuCpVbJ"
      },
      "source": [
        "# importando as bibliotecas\r\n",
        "import numpy as np\r\n",
        "import matplotlib.pyplot as plt\r\n",
        "from sklearn.linear_model import LinearRegression"
      ],
      "execution_count": null,
      "outputs": []
    },
    {
      "cell_type": "code",
      "metadata": {
        "id": "M_vBPUyGp6cs"
      },
      "source": [
        "# definindo X e y\r\n",
        "X = np.array([1.47, 1.5, 1.52, 1.55, 1.57, 1.63, 1.65, 1.68, 1.7, 1.73, 1.78, 1.8, 1.83]).reshape(-1, 1)\r\n",
        "y = np.array([52.21, 53.12, 57.2, 58.6, 58.57, 59.93, 62, 63.11, 65.4, 66.28, 68.1, 72.19, 80.24])"
      ],
      "execution_count": null,
      "outputs": []
    },
    {
      "cell_type": "code",
      "metadata": {
        "colab": {
          "base_uri": "https://localhost:8080/"
        },
        "id": "hLaxb6scqBOY",
        "outputId": "28a08a28-62f2-45f0-b082-a53552875711"
      },
      "source": [
        "X"
      ],
      "execution_count": null,
      "outputs": [
        {
          "output_type": "execute_result",
          "data": {
            "text/plain": [
              "array([[1.47],\n",
              "       [1.5 ],\n",
              "       [1.52],\n",
              "       [1.55],\n",
              "       [1.57],\n",
              "       [1.63],\n",
              "       [1.65],\n",
              "       [1.68],\n",
              "       [1.7 ],\n",
              "       [1.73],\n",
              "       [1.78],\n",
              "       [1.8 ],\n",
              "       [1.83]])"
            ]
          },
          "metadata": {
            "tags": []
          },
          "execution_count": 3
        }
      ]
    },
    {
      "cell_type": "code",
      "metadata": {
        "colab": {
          "base_uri": "https://localhost:8080/"
        },
        "id": "Q_zZUmQ_v4NO",
        "outputId": "2f0cebea-c1b3-43e9-c700-c1465a11f952"
      },
      "source": [
        "y"
      ],
      "execution_count": null,
      "outputs": [
        {
          "output_type": "execute_result",
          "data": {
            "text/plain": [
              "array([52.21, 53.12, 57.2 , 58.6 , 58.57, 59.93, 62.  , 63.11, 65.4 ,\n",
              "       66.28, 68.1 , 72.19, 80.24])"
            ]
          },
          "metadata": {
            "tags": []
          },
          "execution_count": 24
        }
      ]
    },
    {
      "cell_type": "code",
      "metadata": {
        "colab": {
          "base_uri": "https://localhost:8080/"
        },
        "id": "QD3RAi6ZqEi-",
        "outputId": "6e368bb2-d150-4604-bf53-0fa24da129b9"
      },
      "source": [
        "# instanciando do modelo\r\n",
        "model = LinearRegression()\r\n",
        "# treinando o modelo\r\n",
        "model.fit(X, y)"
      ],
      "execution_count": null,
      "outputs": [
        {
          "output_type": "execute_result",
          "data": {
            "text/plain": [
              "LinearRegression(copy_X=True, fit_intercept=True, n_jobs=None, normalize=False)"
            ]
          },
          "metadata": {
            "tags": []
          },
          "execution_count": 5
        }
      ]
    },
    {
      "cell_type": "code",
      "metadata": {
        "colab": {
          "base_uri": "https://localhost:8080/"
        },
        "id": "vNCmjeC5qQC8",
        "outputId": "df54444b-11ea-490d-f40b-b935aac8159b"
      },
      "source": [
        "# pensando na fórmula y = b + a * X\r\n",
        "# imprimindo o coeficiente que corta o eixo y (b)\r\n",
        "intercept = model.intercept_\r\n",
        "print(f'Coeficiente de interceptação: {intercept:.4f}')\r\n",
        "# imprimindo o coeficiente de inclinação da reta,(a)\r\n",
        "slope = model.coef_\r\n",
        "print(f'Coeficiente de inclinação:    {slope.round(4)}')\r\n"
      ],
      "execution_count": null,
      "outputs": [
        {
          "output_type": "stream",
          "text": [
            "Coeficiente de interceptação: -39.3959\n",
            "Coeficiente de inclinação:    [62.0783]\n"
          ],
          "name": "stdout"
        }
      ]
    },
    {
      "cell_type": "code",
      "metadata": {
        "colab": {
          "base_uri": "https://localhost:8080/"
        },
        "id": "qdZCPeIoqYN-",
        "outputId": "aef72b07-bd95-4185-f2be-899ebadfa650"
      },
      "source": [
        "# demonstrando o resultado de duas formas para comparar, fica assim:\r\n",
        "print(f\"y = {intercept} + {slope} * X\")"
      ],
      "execution_count": null,
      "outputs": [
        {
          "output_type": "stream",
          "text": [
            "y = -39.395935775667084 + [62.07833559] * X\n"
          ],
          "name": "stdout"
        }
      ]
    },
    {
      "cell_type": "code",
      "metadata": {
        "colab": {
          "base_uri": "https://localhost:8080/"
        },
        "id": "X9RxpAFbqxr_",
        "outputId": "d30ec2d0-6deb-43b9-9b01-d8b680746898"
      },
      "source": [
        "# criando a equação e prevendo nos dados de X\r\n",
        "y_pred_eq = intercept + slope * X\r\n",
        "print(y_pred_eq.tolist())"
      ],
      "execution_count": null,
      "outputs": [
        {
          "output_type": "stream",
          "text": [
            "[[51.859217548620535], [53.72156761646315], [54.96313432835821], [56.82548439620082], [58.06705110809588], [61.79175124378109], [63.033317955676154], [64.89566802351877], [66.13723473541384], [67.99958480325644], [71.10350158299411], [72.34506829488919], [74.2074183627318]]\n"
          ],
          "name": "stdout"
        }
      ]
    },
    {
      "cell_type": "code",
      "metadata": {
        "colab": {
          "base_uri": "https://localhost:8080/"
        },
        "id": "jOk0fYagq0gn",
        "outputId": "c47fe30f-c69b-4cfd-da9d-ee908710d090"
      },
      "source": [
        "# prevendo com o modelo nos dados de X\r\n",
        "y_pred_model = model.predict(X)\r\n",
        "print(y_pred_model)"
      ],
      "execution_count": null,
      "outputs": [
        {
          "output_type": "stream",
          "text": [
            "[51.85921755 53.72156762 54.96313433 56.8254844  58.06705111 61.79175124\n",
            " 63.03331796 64.89566802 66.13723474 67.9995848  71.10350158 72.34506829\n",
            " 74.20741836]\n"
          ],
          "name": "stdout"
        }
      ]
    },
    {
      "cell_type": "markdown",
      "metadata": {
        "id": "5ozfyAQxrKd_"
      },
      "source": [
        "Os dois resultados são iguais, mudando apenas a precisão (número de casas decimais)."
      ]
    },
    {
      "cell_type": "code",
      "metadata": {
        "colab": {
          "base_uri": "https://localhost:8080/",
          "height": 406
        },
        "id": "Me2gtme_rcN7",
        "outputId": "319e072a-1f13-47d4-b9eb-e8436d8dc238"
      },
      "source": [
        "# definindo a área de plotagem\r\n",
        "plt.figure(figsize=(8,6))\r\n",
        "# definindo o gráfico\r\n",
        "plt.scatter(X, y,  color='blue')\r\n",
        "plt.plot(X, model.predict(X), color='red', linewidth=2)\r\n",
        "# definindo x e y\r\n",
        "plt.xticks(np.arange(1.40, 1.95, 0.1))\r\n",
        "plt.yticks(np.arange(50,90,10))\r\n",
        "# inserindo os rótulos dos eixos\r\n",
        "plt.xlabel(\"Altura (m)\")\r\n",
        "plt.ylabel(\"Peso (kg)\")\r\n",
        "# inserindo o título do gráfico\r\n",
        "plt.title(\"Demonstração de Regressão Linear\", fontweight=\"bold\", size=15)\r\n",
        "# plotando o gráfico\r\n",
        "plt.show()"
      ],
      "execution_count": null,
      "outputs": [
        {
          "output_type": "display_data",
          "data": {
            "image/png": "[encoded data removed]",
            "text/plain": [
              "<Figure size 576x432 with 1 Axes>"
            ]
          },
          "metadata": {
            "tags": [],
            "needs_background": "light"
          }
        }
      ]
    },
    {
      "cell_type": "code",
      "metadata": {
        "colab": {
          "base_uri": "https://localhost:8080/"
        },
        "id": "U_BCkvOLr8WX",
        "outputId": "16cb24a3-368a-4b9d-e513-d4625c81a53a"
      },
      "source": [
        "# imprimindo o coeficiente de determinação\r\n",
        "r_squared = model.score(X, y)\r\n",
        "print(f'Coeficiente de Determinação: {r_squared}')"
      ],
      "execution_count": null,
      "outputs": [
        {
          "output_type": "stream",
          "text": [
            "Coeficiente de Determinação: 0.9090813847966402\n"
          ],
          "name": "stdout"
        }
      ]
    },
    {
      "cell_type": "code",
      "metadata": {
        "colab": {
          "base_uri": "https://localhost:8080/",
          "height": 35
        },
        "id": "hI9bDpHPsmdy",
        "outputId": "93700503-c8eb-4bcb-a324-038e18ff8347"
      },
      "source": [
        "f'{r_squared*100:.2f}'"
      ],
      "execution_count": null,
      "outputs": [
        {
          "output_type": "execute_result",
          "data": {
            "application/vnd.google.colaboratory.intrinsic+json": {
              "type": "string"
            },
            "text/plain": [
              "'90.91'"
            ]
          },
          "metadata": {
            "tags": []
          },
          "execution_count": 19
        }
      ]
    },
    {
      "cell_type": "markdown",
      "metadata": {
        "id": "x_RfSR6CuZ4f"
      },
      "source": [
        "Pelo calculo de Qui quadrado ou R-square podemos verificar alta correlação entre as variáveis, 90,91% , logo a regressão linear se apresenta como um bom modelo para esse conjunto de dados."
      ]
    },
    {
      "cell_type": "code",
      "metadata": {
        "id": "NMGMp0nqsqnj"
      },
      "source": [
        ""
      ],
      "execution_count": null,
      "outputs": []
    }
  ]
}